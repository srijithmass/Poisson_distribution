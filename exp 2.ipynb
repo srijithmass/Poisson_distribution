{
 "cells": [
  {
   "cell_type": "code",
   "execution_count": 8,
   "id": "b84ffa0b",
   "metadata": {},
   "outputs": [
    {
     "name": "stdout",
     "output_type": "stream",
     "text": [
      "5 0 1 4 2 3 7 5 3 5 5 7 7 2 3 3 5 3 6 1\n",
      "[0, 1, 2, 3, 4, 5, 6, 7]\n",
      "[1, 2, 2, 5, 1, 5, 1, 3]\n"
     ]
    }
   ],
   "source": [
    "import numpy as np\n",
    "import math\n",
    "import scipy.stats\n",
    "\n",
    "L=[int(i) for i in input().split()]\n",
    "N=len(L)\n",
    "M=max(L)\n",
    "x=list()\n",
    "f=list()\n",
    "for i in range (M+1):\n",
    "    c=0\n",
    "    for j in range(N):\n",
    "        if L[j]==i:\n",
    "            c=c+1\n",
    "    f.append(c);\n",
    "    x.append(i)\n",
    "print(x)\n",
    "print(f)"
   ]
  },
  {
   "cell_type": "code",
   "execution_count": 9,
   "id": "40c82247",
   "metadata": {},
   "outputs": [
    {
     "data": {
      "text/plain": [
       "20"
      ]
     },
     "execution_count": 9,
     "metadata": {},
     "output_type": "execute_result"
    }
   ],
   "source": [
    "sf=np.sum(f)\n",
    "sf"
   ]
  },
  {
   "cell_type": "code",
   "execution_count": 10,
   "id": "9ca6c205",
   "metadata": {},
   "outputs": [
    {
     "name": "stdout",
     "output_type": "stream",
     "text": [
      "[0.05, 0.1, 0.1, 0.25, 0.05, 0.25, 0.05, 0.15]\n"
     ]
    }
   ],
   "source": [
    "p=list()\n",
    "for i in range (M+1):\n",
    "    p.append(f[i]/sf)\n",
    "print(p)"
   ]
  },
  {
   "cell_type": "code",
   "execution_count": 11,
   "id": "4b424fc1",
   "metadata": {},
   "outputs": [
    {
     "data": {
      "text/plain": [
       "3.8500000000000005"
      ]
     },
     "execution_count": 11,
     "metadata": {},
     "output_type": "execute_result"
    }
   ],
   "source": [
    "mean=np.inner(x,p)\n",
    "mean"
   ]
  },
  {
   "cell_type": "code",
   "execution_count": 14,
   "id": "1661d587",
   "metadata": {},
   "outputs": [
    {
     "name": "stdout",
     "output_type": "stream",
     "text": [
      "X P(X=x) Obs.Fr Exp.Fr xi\n",
      "--------------------------\n",
      "0.00 0.021 1.00 0.43 0.78\n",
      "1.00 0.082 2.00 1.64 0.08\n",
      "2.00 0.158 2.00 3.15 0.42\n",
      "3.00 0.202 5.00 4.05 0.22\n",
      "4.00 0.195 1.00 3.90 2.15\n",
      "5.00 0.150 5.00 3.00 1.33\n",
      "6.00 0.096 1.00 1.92 0.44\n",
      "7.00 0.053 3.00 1.06 3.56\n",
      "--------------------------\n"
     ]
    }
   ],
   "source": [
    "P=list()\n",
    "E=list()\n",
    "xi=list()\n",
    "print(\"X P(X=x) Obs.Fr Exp.Fr xi\")\n",
    "print(\"--------------------------\")\n",
    "for x in range(M+1):\n",
    "    P.append(math.exp(-mean)*mean**x/math.factorial(x))\n",
    "    E.append(P[x]*sf)\n",
    "    xi.append((f[x]-E[x])**2/E[x])\n",
    "    print(\"%2.2f %2.3f %4.2f %3.2f %3.2f\"%(x,P[x],f[x],E[x],xi[x]))\n",
    "print(\"--------------------------\")"
   ]
  },
  {
   "cell_type": "code",
   "execution_count": 15,
   "id": "d0f9abca",
   "metadata": {},
   "outputs": [
    {
     "name": "stdout",
     "output_type": "stream",
     "text": [
      "Calculated value of Chi square is 8.99\n",
      "Table value of chi square at 1 level is 18.48\n",
      "The given data can be fitted in poisson Distribution at 1% LOS\n"
     ]
    }
   ],
   "source": [
    "cal_chi2_sq=np.sum(xi)\n",
    "print(\"Calculated value of Chi square is %4.2f\"%cal_chi2_sq)\n",
    "table_chi2=scipy.stats.chi2.ppf(1-.01,df=M)\n",
    "print(\"Table value of chi square at 1 level is %4.2f\"%table_chi2)\n",
    "if cal_chi2_sq<table_chi2:\n",
    "    print(\"The given data can be fitted in poisson Distribution at 1% LOS\")\n",
    "else:\n",
    "    print(\"The given data cannot be fitted in Poisson Distribution at 1% LOS\")"
   ]
  }
 ],
 "metadata": {
  "kernelspec": {
   "display_name": "Python 3 (ipykernel)",
   "language": "python",
   "name": "python3"
  },
  "language_info": {
   "codemirror_mode": {
    "name": "ipython",
    "version": 3
   },
   "file_extension": ".py",
   "mimetype": "text/x-python",
   "name": "python",
   "nbconvert_exporter": "python",
   "pygments_lexer": "ipython3",
   "version": "3.9.13"
  }
 },
 "nbformat": 4,
 "nbformat_minor": 5
}
